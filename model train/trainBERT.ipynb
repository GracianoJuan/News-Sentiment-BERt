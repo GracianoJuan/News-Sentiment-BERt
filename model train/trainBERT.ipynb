{
 "cells": [
  {
   "cell_type": "code",
   "execution_count": 41,
   "id": "cbf64a11",
   "metadata": {},
   "outputs": [],
   "source": [
    "\n",
    "import pandas as pd\n",
    "import numpy as np\n",
    "import re\n",
    "import torch\n",
    "from sklearn.model_selection import train_test_split\n",
    "from sklearn.preprocessing import LabelEncoder\n",
    "from sklearn.utils.class_weight import compute_class_weight\n",
    "from transformers import BertTokenizer, BertForSequenceClassification, Trainer, TrainingArguments\n",
    "from collections import Counter\n",
    "import matplotlib.pyplot as plt\n",
    "import seaborn as sns"
   ]
  },
  {
   "cell_type": "code",
   "execution_count": 42,
   "id": "bd6ae2ea",
   "metadata": {},
   "outputs": [],
   "source": [
    "# Load data\n",
    "df = pd.read_csv('../data/cleaned_news_sentiment.csv')"
   ]
  },
  {
   "cell_type": "code",
   "execution_count": null,
   "id": "47096465",
   "metadata": {},
   "outputs": [],
   "source": [
    "def clean_text_advanced(text):\n",
    "\n",
    "    if pd.isna(text):\n",
    "        return \"\"\n",
    "    \n",
    "    text = str(text)\n",
    "    \n",
    "    text = re.sub(r'<[^>]+>', '', text)\n",
    "    \n",
    "    text = re.sub(r'http[s]?://(?:[a-zA-Z]|[0-9]|[$-_@.&+]|[!*\\\\(\\\\),]|(?:%[0-9a-fA-F][0-9a-fA-F]))+', '', text)\n",
    "    \n",
    "    text = re.sub(r'\\S+@\\S+', '', text)\n",
    "    \n",
    "    text = re.sub(r'[!]{3,}', '!!', text)\n",
    "    text = re.sub(r'[?]{3,}', '??', text)\n",
    "    text = re.sub(r'[.]{3,}', '...', text)\n",
    "    \n",
    "    text = re.sub(r'[^\\w\\s.,!?;:\\'-]', ' ', text)\n",
    "    \n",
    "    text = re.sub(r'\\s+', ' ', text)\n",
    "    \n",
    "    text = text.strip()\n",
    "    \n",
    "    return text\n"
   ]
  },
  {
   "cell_type": "code",
   "execution_count": null,
   "id": "0ba3e439",
   "metadata": {},
   "outputs": [
    {
     "name": "stdout",
     "output_type": "stream",
     "text": [
      "Applying advanced text cleaning...\n",
      "Dataset shape after cleaning: (1270, 4)\n",
      "\n",
      "=== Class Distribution Analysis ===\n",
      "Original class distribution:\n",
      "sentiment\n",
      "neutral     976\n",
      "positive    217\n",
      "negative     77\n",
      "Name: count, dtype: int64\n",
      "Class proportions:\n",
      "neutral: 76.85%\n",
      "positive: 17.09%\n",
      "negative: 6.06%\n"
     ]
    }
   ],
   "source": [
    "print(\"Applying advanced text cleaning...\")\n",
    "df['description_clean'] = df['description_clean'].apply(clean_text_advanced)\n",
    "\n",
    "df = df[df['description_clean'].str.len() > 0].reset_index(drop=True)\n",
    "\n",
    "print(f\"Dataset shape after cleaning: {df.shape}\")\n",
    "\n",
    "print(\"\\n=== Class Distribution Analysis ===\")\n",
    "class_counts = df['sentiment'].value_counts()\n",
    "print(\"Original class distribution:\")\n",
    "print(class_counts)\n",
    "print(f\"Class proportions:\")\n",
    "for class_name, count in class_counts.items():\n",
    "    print(f\"{class_name}: {count/len(df)*100:.2f}%\")"
   ]
  },
  {
   "cell_type": "code",
   "execution_count": null,
   "id": "8595cd44",
   "metadata": {},
   "outputs": [
    {
     "data": {
      "text/plain": [
       "(array([0, 1, 2]),\n",
       " [Text(0, 0, 'neutral'), Text(1, 0, 'positive'), Text(2, 0, 'negative')])"
      ]
     },
     "execution_count": 45,
     "metadata": {},
     "output_type": "execute_result"
    },
    {
     "data": {
      "image/png": "[encoded data removed]",
      "text/plain": [
       "<Figure size 1000x600 with 1 Axes>"
      ]
     },
     "metadata": {},
     "output_type": "display_data"
    }
   ],
   "source": [
    "plt.figure(figsize=(10, 6))\n",
    "plt.subplot(1, 2, 1)\n",
    "class_counts.plot(kind='bar')\n",
    "plt.title('Original Class Distribution')\n",
    "plt.ylabel('Count')\n",
    "plt.xticks(rotation=45)"
   ]
  },
  {
   "cell_type": "code",
   "execution_count": null,
   "id": "dcea705b",
   "metadata": {},
   "outputs": [],
   "source": [
    "def balance_dataset(df, method='undersample', target_size=None):\n",
    "    class_counts = df['sentiment'].value_counts()\n",
    "    min_class_size = class_counts.min()\n",
    "    max_class_size = class_counts.max()\n",
    "    \n",
    "    if method == 'undersample':\n",
    "        balanced_dfs = []\n",
    "        for sentiment in df['sentiment'].unique():\n",
    "            class_df = df[df['sentiment'] == sentiment]\n",
    "            sampled_df = class_df.sample(n=min_class_size, random_state=42)\n",
    "            balanced_dfs.append(sampled_df)\n",
    "        \n",
    "        balanced_df = pd.concat(balanced_dfs, ignore_index=True)\n",
    "        \n",
    "    elif method == 'oversample':\n",
    "        target = target_size if target_size else max_class_size\n",
    "        balanced_dfs = []\n",
    "        \n",
    "        for sentiment in df['sentiment'].unique():\n",
    "            class_df = df[df['sentiment'] == sentiment]\n",
    "            current_size = len(class_df)\n",
    "            \n",
    "            if current_size < target:\n",
    "                additional_samples = target - current_size\n",
    "                oversampled = class_df.sample(n=additional_samples, replace=True, random_state=42)\n",
    "                balanced_df_class = pd.concat([class_df, oversampled], ignore_index=True)\n",
    "            else:\n",
    "                balanced_df_class = class_df.sample(n=target, random_state=42)\n",
    "            \n",
    "            balanced_dfs.append(balanced_df_class)\n",
    "        \n",
    "        balanced_df = pd.concat(balanced_dfs, ignore_index=True)\n",
    "        \n",
    "    elif method == 'mixed':\n",
    "        target = target_size if target_size else int(np.mean([min_class_size, max_class_size]))\n",
    "        balanced_dfs = []\n",
    "        \n",
    "        for sentiment in df['sentiment'].unique():\n",
    "            class_df = df[df['sentiment'] == sentiment]\n",
    "            current_size = len(class_df)\n",
    "            \n",
    "            if current_size < target:\n",
    "                additional_samples = target - current_size\n",
    "                oversampled = class_df.sample(n=additional_samples, replace=True, random_state=42)\n",
    "                balanced_df_class = pd.concat([class_df, oversampled], ignore_index=True)\n",
    "            else:\n",
    "                balanced_df_class = class_df.sample(n=target, random_state=42)\n",
    "            \n",
    "            balanced_dfs.append(balanced_df_class)\n",
    "        \n",
    "        balanced_df = pd.concat(balanced_dfs, ignore_index=True)\n",
    "    \n",
    "    return balanced_df.sample(frac=1, random_state=42).reset_index(drop=True)  # Shuffle"
   ]
  },
  {
   "cell_type": "code",
   "execution_count": null,
   "id": "6b8e1d89",
   "metadata": {},
   "outputs": [
    {
     "name": "stdout",
     "output_type": "stream",
     "text": [
      "\n",
      "Applying mixed balancing...\n",
      "\n",
      "Balanced class distribution:\n",
      "sentiment\n",
      "negative    526\n",
      "positive    526\n",
      "neutral     526\n",
      "Name: count, dtype: int64\n",
      "Balanced class proportions:\n",
      "negative: 33.33%\n",
      "positive: 33.33%\n",
      "neutral: 33.33%\n"
     ]
    },
    {
     "data": {
      "image/png": "[encoded data removed]",
      "text/plain": [
       "<Figure size 640x480 with 1 Axes>"
      ]
     },
     "metadata": {},
     "output_type": "display_data"
    }
   ],
   "source": [
    "# Apply data balancing\n",
    "balance_method = 'mixed'\n",
    "print(f\"\\nApplying {balance_method} balancing...\")\n",
    "\n",
    "df_balanced = balance_dataset(df, method=balance_method)\n",
    "\n",
    "balanced_class_counts = df_balanced['sentiment'].value_counts()\n",
    "print(f\"\\nBalanced class distribution:\")\n",
    "print(balanced_class_counts)\n",
    "print(f\"Balanced class proportions:\")\n",
    "for class_name, count in balanced_class_counts.items():\n",
    "    print(f\"{class_name}: {count/len(df_balanced)*100:.2f}%\")\n",
    "\n",
    "plt.subplot(1, 2, 2)\n",
    "balanced_class_counts.plot(kind='bar')\n",
    "plt.title(f'Balanced Class Distribution ({balance_method})')\n",
    "plt.ylabel('Count')\n",
    "plt.xticks(rotation=45)\n",
    "plt.tight_layout()\n",
    "plt.show()"
   ]
  },
  {
   "cell_type": "code",
   "execution_count": null,
   "id": "3c704246",
   "metadata": {},
   "outputs": [
    {
     "name": "stdout",
     "output_type": "stream",
     "text": [
      "\n",
      "Label mapping:\n",
      "0: negative\n",
      "1: neutral\n",
      "2: positive\n",
      "\n",
      "Class weights: {0: 1.0, 1: 1.0, 2: 1.0}\n",
      "\n",
      "Train set size: 1262\n",
      "Validation set size: 316\n"
     ]
    }
   ],
   "source": [
    "# Label encoding\n",
    "label_encoder = LabelEncoder()\n",
    "df_balanced['sentiment_encoded'] = label_encoder.fit_transform(df_balanced['sentiment'])\n",
    "\n",
    "import pickle\n",
    "with open(\"label_encoder.pkl\", \"wb\") as f:\n",
    "    pickle.dump(label_encoder, f)\n",
    "\n",
    "print(f\"\\nLabel mapping:\")\n",
    "for i, label in enumerate(label_encoder.classes_):\n",
    "    print(f\"{i}: {label}\")\n",
    "\n",
    "class_weights = compute_class_weight(\n",
    "    'balanced',\n",
    "    classes=np.unique(df_balanced['sentiment_encoded']),\n",
    "    y=df_balanced['sentiment_encoded']\n",
    ")\n",
    "\n",
    "class_weights_dict = {i: weight for i, weight in enumerate(class_weights)}\n",
    "print(f\"\\nClass weights: {class_weights_dict}\")\n",
    "\n",
    "train_texts, val_texts, train_labels, val_labels = train_test_split(\n",
    "    df_balanced['description_clean'].tolist(), \n",
    "    df_balanced['sentiment_encoded'].tolist(), \n",
    "    test_size=0.2, \n",
    "    random_state=42,\n",
    "    stratify=df_balanced['sentiment_encoded']  # Ensure balanced split\n",
    ")\n",
    "\n",
    "print(f\"\\nTrain set size: {len(train_texts)}\")\n",
    "print(f\"Validation set size: {len(val_texts)}\")\n",
    "    "
   ]
  },
  {
   "cell_type": "code",
   "execution_count": null,
   "id": "253122dd",
   "metadata": {},
   "outputs": [
    {
     "name": "stderr",
     "output_type": "stream",
     "text": [
      "d:\\aaa\\PBL\\Temp\\modelpy\\.venv\\Lib\\site-packages\\huggingface_hub\\file_download.py:943: FutureWarning: `resume_download` is deprecated and will be removed in version 1.0.0. Downloads always resume when possible. If you want to force a new download, use `force_download=True`.\n",
      "  warnings.warn(\n"
     ]
    }
   ],
   "source": [
    "# Tokenization\n",
    "tokenizer = BertTokenizer.from_pretrained('bert-base-uncased')\n",
    "\n",
    "text_lengths = [len(tokenizer.encode(text, truncation=False)) for text in train_texts[:1000]]  # Sample for speed\n",
    "avg_length = np.mean(text_lengths)\n",
    "max_length = min(512, int(np.percentile(text_lengths, 95)))  # Use 95th percentile or 512, whichever is smaller"
   ]
  },
  {
   "cell_type": "code",
   "execution_count": 50,
   "id": "d7f2c1d7",
   "metadata": {},
   "outputs": [
    {
     "name": "stdout",
     "output_type": "stream",
     "text": [
      "\n",
      "Text length analysis:\n",
      "Average token length: 40.3\n",
      "95th percentile length: 62\n",
      "Using max_length: 62\n"
     ]
    }
   ],
   "source": [
    "print(f\"\\nText length analysis:\")\n",
    "print(f\"Average token length: {avg_length:.1f}\")\n",
    "print(f\"95th percentile length: {max_length}\")\n",
    "print(f\"Using max_length: {max_length}\")\n",
    "\n",
    "train_encodings = tokenizer(train_texts, truncation=True, padding=True, max_length=max_length)\n",
    "val_encodings = tokenizer(val_texts, truncation=True, padding=True, max_length=max_length)\n"
   ]
  },
  {
   "cell_type": "code",
   "execution_count": null,
   "id": "4a91c87b",
   "metadata": {},
   "outputs": [],
   "source": [
    "class NewsDataset(torch.utils.data.Dataset):\n",
    "    def __init__(self, encodings, labels):\n",
    "        self.encodings = encodings\n",
    "        self.labels = labels\n",
    "        \n",
    "    def __getitem__(self, idx):\n",
    "        item = {k: torch.tensor(v[idx]) for k, v in self.encodings.items()}\n",
    "        item[\"labels\"] = torch.tensor(self.labels[idx], dtype=torch.long)\n",
    "        return item\n",
    "    \n",
    "    def __len__(self):\n",
    "        return len(self.labels)\n",
    "\n",
    "train_dataset = NewsDataset(train_encodings, train_labels)\n",
    "val_dataset = NewsDataset(val_encodings, val_labels)\n"
   ]
  },
  {
   "cell_type": "code",
   "execution_count": null,
   "id": "e16f64e6",
   "metadata": {},
   "outputs": [
    {
     "name": "stderr",
     "output_type": "stream",
     "text": [
      "Some weights of BertForSequenceClassification were not initialized from the model checkpoint at bert-base-uncased and are newly initialized: ['classifier.bias', 'classifier.weight']\n",
      "You should probably TRAIN this model on a down-stream task to be able to use it for predictions and inference.\n"
     ]
    }
   ],
   "source": [
    "# Load model\n",
    "num_labels = len(label_encoder.classes_)\n",
    "model = BertForSequenceClassification.from_pretrained('bert-base-uncased', num_labels=num_labels)\n",
    "\n",
    "class WeightedTrainer(Trainer):\n",
    "    def __init__(self, class_weights=None, *args, **kwargs):\n",
    "        super().__init__(*args, **kwargs)\n",
    "        self.class_weights = class_weights\n",
    "    \n",
    "    def compute_loss(self, model, inputs, return_outputs=False):\n",
    "        labels = inputs.get(\"labels\")\n",
    "        outputs = model(**inputs)\n",
    "        logits = outputs.get('logits')\n",
    "        \n",
    "        if self.class_weights is not None:\n",
    "            weight_tensor = torch.tensor([self.class_weights[i] for i in range(len(self.class_weights))], \n",
    "                                       dtype=torch.float32, device=labels.device)\n",
    "            loss_fct = torch.nn.CrossEntropyLoss(weight=weight_tensor)\n",
    "            loss = loss_fct(logits.view(-1, self.model.config.num_labels), labels.view(-1))\n",
    "        else:\n",
    "            loss_fct = torch.nn.CrossEntropyLoss()\n",
    "            loss = loss_fct(logits.view(-1, self.model.config.num_labels), labels.view(-1))\n",
    "        \n",
    "        return (loss, outputs) if return_outputs else loss"
   ]
  },
  {
   "cell_type": "code",
   "execution_count": 53,
   "id": "962ede6d",
   "metadata": {},
   "outputs": [],
   "source": [
    "# pip install transformers==4.36.0 accelerate==0.25.0"
   ]
  },
  {
   "cell_type": "code",
   "execution_count": null,
   "id": "32952dff",
   "metadata": {},
   "outputs": [],
   "source": [
    "training_args = TrainingArguments(\n",
    "    output_dir='./results',\n",
    "    num_train_epochs=3,\n",
    "    per_device_train_batch_size=8,\n",
    "    per_device_eval_batch_size=8,\n",
    "    warmup_steps=100,\n",
    "    weight_decay=0.01,\n",
    "    logging_dir='./logs',\n",
    "    logging_steps=10,\n",
    "    evaluation_strategy=\"epoch\",\n",
    "    save_strategy=\"epoch\",\n",
    "    load_best_model_at_end=True,\n",
    "    metric_for_best_model=\"eval_loss\",\n",
    "    save_total_limit=2,\n",
    "    seed=42\n",
    ")"
   ]
  },
  {
   "cell_type": "code",
   "execution_count": null,
   "id": "7b4c7c2a",
   "metadata": {},
   "outputs": [],
   "source": [
    "trainer = WeightedTrainer(\n",
    "    class_weights=class_weights_dict,\n",
    "    model=model,\n",
    "    args=training_args,\n",
    "    train_dataset=train_dataset,\n",
    "    eval_dataset=val_dataset\n",
    ")"
   ]
  },
  {
   "cell_type": "code",
   "execution_count": null,
   "id": "2eff638d",
   "metadata": {},
   "outputs": [
    {
     "name": "stdout",
     "output_type": "stream",
     "text": [
      "\n",
      "=== Starting Training ===\n"
     ]
    },
    {
     "name": "stderr",
     "output_type": "stream",
     "text": [
      "  2%|▏         | 11/474 [00:02<01:58,  3.89it/s]"
     ]
    },
    {
     "name": "stdout",
     "output_type": "stream",
     "text": [
      "{'loss': 1.1499, 'learning_rate': 5e-06, 'epoch': 0.06}\n"
     ]
    },
    {
     "name": "stderr",
     "output_type": "stream",
     "text": [
      "  4%|▍         | 21/474 [00:05<01:56,  3.89it/s]"
     ]
    },
    {
     "name": "stdout",
     "output_type": "stream",
     "text": [
      "{'loss': 1.0816, 'learning_rate': 1e-05, 'epoch': 0.13}\n"
     ]
    },
    {
     "name": "stderr",
     "output_type": "stream",
     "text": [
      "  7%|▋         | 31/474 [00:08<01:53,  3.91it/s]"
     ]
    },
    {
     "name": "stdout",
     "output_type": "stream",
     "text": [
      "{'loss': 1.0248, 'learning_rate': 1.5e-05, 'epoch': 0.19}\n"
     ]
    },
    {
     "name": "stderr",
     "output_type": "stream",
     "text": [
      "  9%|▊         | 41/474 [00:10<01:51,  3.88it/s]"
     ]
    },
    {
     "name": "stdout",
     "output_type": "stream",
     "text": [
      "{'loss': 0.9798, 'learning_rate': 2e-05, 'epoch': 0.25}\n"
     ]
    },
    {
     "name": "stderr",
     "output_type": "stream",
     "text": [
      " 11%|█         | 51/474 [00:13<01:48,  3.90it/s]"
     ]
    },
    {
     "name": "stdout",
     "output_type": "stream",
     "text": [
      "{'loss': 0.9209, 'learning_rate': 2.5e-05, 'epoch': 0.32}\n"
     ]
    },
    {
     "name": "stderr",
     "output_type": "stream",
     "text": [
      " 13%|█▎        | 61/474 [00:15<01:45,  3.91it/s]"
     ]
    },
    {
     "name": "stdout",
     "output_type": "stream",
     "text": [
      "{'loss': 0.8003, 'learning_rate': 3e-05, 'epoch': 0.38}\n"
     ]
    },
    {
     "name": "stderr",
     "output_type": "stream",
     "text": [
      " 15%|█▍        | 71/474 [00:18<01:43,  3.90it/s]"
     ]
    },
    {
     "name": "stdout",
     "output_type": "stream",
     "text": [
      "{'loss': 0.7993, 'learning_rate': 3.5e-05, 'epoch': 0.44}\n"
     ]
    },
    {
     "name": "stderr",
     "output_type": "stream",
     "text": [
      " 17%|█▋        | 81/474 [00:20<01:41,  3.88it/s]"
     ]
    },
    {
     "name": "stdout",
     "output_type": "stream",
     "text": [
      "{'loss': 0.6979, 'learning_rate': 4e-05, 'epoch': 0.51}\n"
     ]
    },
    {
     "name": "stderr",
     "output_type": "stream",
     "text": [
      " 19%|█▉        | 91/474 [00:23<01:37,  3.92it/s]"
     ]
    },
    {
     "name": "stdout",
     "output_type": "stream",
     "text": [
      "{'loss': 0.7147, 'learning_rate': 4.5e-05, 'epoch': 0.57}\n"
     ]
    },
    {
     "name": "stderr",
     "output_type": "stream",
     "text": [
      " 21%|██▏       | 101/474 [00:25<01:37,  3.82it/s]"
     ]
    },
    {
     "name": "stdout",
     "output_type": "stream",
     "text": [
      "{'loss': 0.648, 'learning_rate': 5e-05, 'epoch': 0.63}\n"
     ]
    },
    {
     "name": "stderr",
     "output_type": "stream",
     "text": [
      " 23%|██▎       | 111/474 [00:28<01:33,  3.87it/s]"
     ]
    },
    {
     "name": "stdout",
     "output_type": "stream",
     "text": [
      "{'loss': 0.6623, 'learning_rate': 4.8663101604278076e-05, 'epoch': 0.7}\n"
     ]
    },
    {
     "name": "stderr",
     "output_type": "stream",
     "text": [
      " 26%|██▌       | 121/474 [00:31<01:31,  3.88it/s]"
     ]
    },
    {
     "name": "stdout",
     "output_type": "stream",
     "text": [
      "{'loss': 0.5348, 'learning_rate': 4.732620320855615e-05, 'epoch': 0.76}\n"
     ]
    },
    {
     "name": "stderr",
     "output_type": "stream",
     "text": [
      " 28%|██▊       | 131/474 [00:33<01:28,  3.87it/s]"
     ]
    },
    {
     "name": "stdout",
     "output_type": "stream",
     "text": [
      "{'loss': 0.6078, 'learning_rate': 4.598930481283423e-05, 'epoch': 0.82}\n"
     ]
    },
    {
     "name": "stderr",
     "output_type": "stream",
     "text": [
      " 30%|██▉       | 141/474 [00:36<01:26,  3.85it/s]"
     ]
    },
    {
     "name": "stdout",
     "output_type": "stream",
     "text": [
      "{'loss': 0.5606, 'learning_rate': 4.4652406417112304e-05, 'epoch': 0.89}\n"
     ]
    },
    {
     "name": "stderr",
     "output_type": "stream",
     "text": [
      " 32%|███▏      | 151/474 [00:38<01:23,  3.87it/s]"
     ]
    },
    {
     "name": "stdout",
     "output_type": "stream",
     "text": [
      "{'loss': 0.5293, 'learning_rate': 4.331550802139038e-05, 'epoch': 0.95}\n"
     ]
    },
    {
     "name": "stderr",
     "output_type": "stream",
     "text": [
      " 33%|███▎      | 158/474 [00:40<01:17,  4.09it/s]\n",
      " 33%|███▎      | 158/474 [00:43<01:17,  4.09it/s]"
     ]
    },
    {
     "name": "stdout",
     "output_type": "stream",
     "text": [
      "{'eval_loss': 0.435414582490921, 'eval_runtime': 2.5766, 'eval_samples_per_second': 122.643, 'eval_steps_per_second': 15.524, 'epoch': 1.0}\n"
     ]
    },
    {
     "name": "stderr",
     "output_type": "stream",
     "text": [
      " 34%|███▍      | 161/474 [00:47<06:24,  1.23s/it]"
     ]
    },
    {
     "name": "stdout",
     "output_type": "stream",
     "text": [
      "{'loss': 0.5184, 'learning_rate': 4.197860962566845e-05, 'epoch': 1.01}\n"
     ]
    },
    {
     "name": "stderr",
     "output_type": "stream",
     "text": [
      " 36%|███▌      | 171/474 [00:50<01:26,  3.49it/s]"
     ]
    },
    {
     "name": "stdout",
     "output_type": "stream",
     "text": [
      "{'loss': 0.4192, 'learning_rate': 4.0641711229946525e-05, 'epoch': 1.08}\n"
     ]
    },
    {
     "name": "stderr",
     "output_type": "stream",
     "text": [
      " 38%|███▊      | 181/474 [00:53<01:16,  3.84it/s]"
     ]
    },
    {
     "name": "stdout",
     "output_type": "stream",
     "text": [
      "{'loss': 0.5243, 'learning_rate': 3.93048128342246e-05, 'epoch': 1.14}\n"
     ]
    },
    {
     "name": "stderr",
     "output_type": "stream",
     "text": [
      " 40%|████      | 191/474 [00:55<01:13,  3.85it/s]"
     ]
    },
    {
     "name": "stdout",
     "output_type": "stream",
     "text": [
      "{'loss': 0.3619, 'learning_rate': 3.796791443850268e-05, 'epoch': 1.2}\n"
     ]
    },
    {
     "name": "stderr",
     "output_type": "stream",
     "text": [
      " 42%|████▏     | 201/474 [00:58<01:11,  3.82it/s]"
     ]
    },
    {
     "name": "stdout",
     "output_type": "stream",
     "text": [
      "{'loss': 0.3985, 'learning_rate': 3.6631016042780753e-05, 'epoch': 1.27}\n"
     ]
    },
    {
     "name": "stderr",
     "output_type": "stream",
     "text": [
      " 45%|████▍     | 211/474 [01:00<01:08,  3.82it/s]"
     ]
    },
    {
     "name": "stdout",
     "output_type": "stream",
     "text": [
      "{'loss': 0.2635, 'learning_rate': 3.529411764705883e-05, 'epoch': 1.33}\n"
     ]
    },
    {
     "name": "stderr",
     "output_type": "stream",
     "text": [
      " 47%|████▋     | 221/474 [01:03<01:06,  3.79it/s]"
     ]
    },
    {
     "name": "stdout",
     "output_type": "stream",
     "text": [
      "{'loss': 0.3182, 'learning_rate': 3.39572192513369e-05, 'epoch': 1.39}\n"
     ]
    },
    {
     "name": "stderr",
     "output_type": "stream",
     "text": [
      " 49%|████▊     | 231/474 [01:06<01:04,  3.79it/s]"
     ]
    },
    {
     "name": "stdout",
     "output_type": "stream",
     "text": [
      "{'loss': 0.2531, 'learning_rate': 3.2620320855614975e-05, 'epoch': 1.46}\n"
     ]
    },
    {
     "name": "stderr",
     "output_type": "stream",
     "text": [
      " 51%|█████     | 241/474 [01:08<01:01,  3.78it/s]"
     ]
    },
    {
     "name": "stdout",
     "output_type": "stream",
     "text": [
      "{'loss': 0.3585, 'learning_rate': 3.128342245989305e-05, 'epoch': 1.52}\n"
     ]
    },
    {
     "name": "stderr",
     "output_type": "stream",
     "text": [
      " 53%|█████▎    | 251/474 [01:11<00:58,  3.81it/s]"
     ]
    },
    {
     "name": "stdout",
     "output_type": "stream",
     "text": [
      "{'loss': 0.222, 'learning_rate': 2.9946524064171122e-05, 'epoch': 1.58}\n"
     ]
    },
    {
     "name": "stderr",
     "output_type": "stream",
     "text": [
      " 55%|█████▌    | 261/474 [01:13<00:56,  3.74it/s]"
     ]
    },
    {
     "name": "stdout",
     "output_type": "stream",
     "text": [
      "{'loss': 0.2044, 'learning_rate': 2.8609625668449196e-05, 'epoch': 1.65}\n"
     ]
    },
    {
     "name": "stderr",
     "output_type": "stream",
     "text": [
      " 57%|█████▋    | 271/474 [01:16<00:53,  3.77it/s]"
     ]
    },
    {
     "name": "stdout",
     "output_type": "stream",
     "text": [
      "{'loss': 0.4244, 'learning_rate': 2.7272727272727273e-05, 'epoch': 1.71}\n"
     ]
    },
    {
     "name": "stderr",
     "output_type": "stream",
     "text": [
      " 59%|█████▉    | 281/474 [01:19<00:52,  3.69it/s]"
     ]
    },
    {
     "name": "stdout",
     "output_type": "stream",
     "text": [
      "{'loss': 0.3211, 'learning_rate': 2.5935828877005347e-05, 'epoch': 1.77}\n"
     ]
    },
    {
     "name": "stderr",
     "output_type": "stream",
     "text": [
      " 61%|██████▏   | 291/474 [01:21<00:48,  3.75it/s]"
     ]
    },
    {
     "name": "stdout",
     "output_type": "stream",
     "text": [
      "{'loss': 0.2022, 'learning_rate': 2.4598930481283424e-05, 'epoch': 1.84}\n"
     ]
    },
    {
     "name": "stderr",
     "output_type": "stream",
     "text": [
      " 64%|██████▎   | 301/474 [01:24<00:46,  3.72it/s]"
     ]
    },
    {
     "name": "stdout",
     "output_type": "stream",
     "text": [
      "{'loss': 0.2654, 'learning_rate': 2.32620320855615e-05, 'epoch': 1.9}\n"
     ]
    },
    {
     "name": "stderr",
     "output_type": "stream",
     "text": [
      " 66%|██████▌   | 311/474 [01:27<00:43,  3.75it/s]"
     ]
    },
    {
     "name": "stdout",
     "output_type": "stream",
     "text": [
      "{'loss': 0.1774, 'learning_rate': 2.192513368983957e-05, 'epoch': 1.96}\n"
     ]
    },
    {
     "name": "stderr",
     "output_type": "stream",
     "text": [
      " 67%|██████▋   | 316/474 [01:28<00:40,  3.91it/s]\n",
      " 67%|██████▋   | 316/474 [01:31<00:40,  3.91it/s]"
     ]
    },
    {
     "name": "stdout",
     "output_type": "stream",
     "text": [
      "{'eval_loss': 0.37466058135032654, 'eval_runtime': 2.6845, 'eval_samples_per_second': 117.711, 'eval_steps_per_second': 14.9, 'epoch': 2.0}\n"
     ]
    },
    {
     "name": "stderr",
     "output_type": "stream",
     "text": [
      " 68%|██████▊   | 321/474 [01:36<01:49,  1.40it/s]"
     ]
    },
    {
     "name": "stdout",
     "output_type": "stream",
     "text": [
      "{'loss': 0.344, 'learning_rate': 2.058823529411765e-05, 'epoch': 2.03}\n"
     ]
    },
    {
     "name": "stderr",
     "output_type": "stream",
     "text": [
      " 70%|██████▉   | 331/474 [01:38<00:39,  3.59it/s]"
     ]
    },
    {
     "name": "stdout",
     "output_type": "stream",
     "text": [
      "{'loss': 0.1208, 'learning_rate': 1.9251336898395722e-05, 'epoch': 2.09}\n"
     ]
    },
    {
     "name": "stderr",
     "output_type": "stream",
     "text": [
      " 72%|███████▏  | 341/474 [01:41<00:35,  3.74it/s]"
     ]
    },
    {
     "name": "stdout",
     "output_type": "stream",
     "text": [
      "{'loss': 0.1242, 'learning_rate': 1.7914438502673796e-05, 'epoch': 2.15}\n"
     ]
    },
    {
     "name": "stderr",
     "output_type": "stream",
     "text": [
      " 74%|███████▍  | 351/474 [01:44<00:32,  3.73it/s]"
     ]
    },
    {
     "name": "stdout",
     "output_type": "stream",
     "text": [
      "{'loss': 0.1408, 'learning_rate': 1.6577540106951873e-05, 'epoch': 2.22}\n"
     ]
    },
    {
     "name": "stderr",
     "output_type": "stream",
     "text": [
      " 76%|███████▌  | 361/474 [01:46<00:29,  3.77it/s]"
     ]
    },
    {
     "name": "stdout",
     "output_type": "stream",
     "text": [
      "{'loss': 0.1262, 'learning_rate': 1.5240641711229947e-05, 'epoch': 2.28}\n"
     ]
    },
    {
     "name": "stderr",
     "output_type": "stream",
     "text": [
      " 78%|███████▊  | 371/474 [01:49<00:27,  3.74it/s]"
     ]
    },
    {
     "name": "stdout",
     "output_type": "stream",
     "text": [
      "{'loss': 0.0264, 'learning_rate': 1.3903743315508022e-05, 'epoch': 2.34}\n"
     ]
    },
    {
     "name": "stderr",
     "output_type": "stream",
     "text": [
      " 80%|████████  | 381/474 [01:51<00:24,  3.77it/s]"
     ]
    },
    {
     "name": "stdout",
     "output_type": "stream",
     "text": [
      "{'loss': 0.1229, 'learning_rate': 1.2566844919786098e-05, 'epoch': 2.41}\n"
     ]
    },
    {
     "name": "stderr",
     "output_type": "stream",
     "text": [
      " 82%|████████▏ | 391/474 [01:54<00:22,  3.69it/s]"
     ]
    },
    {
     "name": "stdout",
     "output_type": "stream",
     "text": [
      "{'loss': 0.0806, 'learning_rate': 1.1229946524064172e-05, 'epoch': 2.47}\n"
     ]
    },
    {
     "name": "stderr",
     "output_type": "stream",
     "text": [
      " 85%|████████▍ | 401/474 [01:57<00:19,  3.74it/s]"
     ]
    },
    {
     "name": "stdout",
     "output_type": "stream",
     "text": [
      "{'loss': 0.2288, 'learning_rate': 9.893048128342247e-06, 'epoch': 2.53}\n"
     ]
    },
    {
     "name": "stderr",
     "output_type": "stream",
     "text": [
      " 87%|████████▋ | 411/474 [01:59<00:16,  3.76it/s]"
     ]
    },
    {
     "name": "stdout",
     "output_type": "stream",
     "text": [
      "{'loss': 0.0992, 'learning_rate': 8.556149732620321e-06, 'epoch': 2.59}\n"
     ]
    },
    {
     "name": "stderr",
     "output_type": "stream",
     "text": [
      " 89%|████████▉ | 421/474 [02:02<00:14,  3.63it/s]"
     ]
    },
    {
     "name": "stdout",
     "output_type": "stream",
     "text": [
      "{'loss': 0.0735, 'learning_rate': 7.2192513368983955e-06, 'epoch': 2.66}\n"
     ]
    },
    {
     "name": "stderr",
     "output_type": "stream",
     "text": [
      " 91%|█████████ | 431/474 [02:05<00:11,  3.76it/s]"
     ]
    },
    {
     "name": "stdout",
     "output_type": "stream",
     "text": [
      "{'loss': 0.0218, 'learning_rate': 5.882352941176471e-06, 'epoch': 2.72}\n"
     ]
    },
    {
     "name": "stderr",
     "output_type": "stream",
     "text": [
      " 93%|█████████▎| 441/474 [02:07<00:08,  3.75it/s]"
     ]
    },
    {
     "name": "stdout",
     "output_type": "stream",
     "text": [
      "{'loss': 0.0801, 'learning_rate': 4.5454545454545455e-06, 'epoch': 2.78}\n"
     ]
    },
    {
     "name": "stderr",
     "output_type": "stream",
     "text": [
      " 95%|█████████▌| 451/474 [02:10<00:06,  3.75it/s]"
     ]
    },
    {
     "name": "stdout",
     "output_type": "stream",
     "text": [
      "{'loss': 0.0584, 'learning_rate': 3.208556149732621e-06, 'epoch': 2.85}\n"
     ]
    },
    {
     "name": "stderr",
     "output_type": "stream",
     "text": [
      " 97%|█████████▋| 461/474 [02:13<00:03,  3.73it/s]"
     ]
    },
    {
     "name": "stdout",
     "output_type": "stream",
     "text": [
      "{'loss': 0.0341, 'learning_rate': 1.8716577540106951e-06, 'epoch': 2.91}\n"
     ]
    },
    {
     "name": "stderr",
     "output_type": "stream",
     "text": [
      " 99%|█████████▉| 471/474 [02:15<00:00,  3.73it/s]"
     ]
    },
    {
     "name": "stdout",
     "output_type": "stream",
     "text": [
      "{'loss': 0.019, 'learning_rate': 5.347593582887701e-07, 'epoch': 2.97}\n"
     ]
    },
    {
     "name": "stderr",
     "output_type": "stream",
     "text": [
      "100%|██████████| 474/474 [02:16<00:00,  3.95it/s]\n",
      "100%|██████████| 474/474 [02:19<00:00,  3.95it/s]"
     ]
    },
    {
     "name": "stdout",
     "output_type": "stream",
     "text": [
      "{'eval_loss': 0.26486703753471375, 'eval_runtime': 2.6898, 'eval_samples_per_second': 117.479, 'eval_steps_per_second': 14.871, 'epoch': 3.0}\n"
     ]
    },
    {
     "name": "stderr",
     "output_type": "stream",
     "text": [
      "100%|██████████| 474/474 [02:23<00:00,  3.31it/s]"
     ]
    },
    {
     "name": "stdout",
     "output_type": "stream",
     "text": [
      "{'train_runtime': 143.3701, 'train_samples_per_second': 26.407, 'train_steps_per_second': 3.306, 'train_loss': 0.39482151229673296, 'epoch': 3.0}\n"
     ]
    },
    {
     "name": "stderr",
     "output_type": "stream",
     "text": [
      "\n"
     ]
    },
    {
     "data": {
      "text/plain": [
       "TrainOutput(global_step=474, training_loss=0.39482151229673296, metrics={'train_runtime': 143.3701, 'train_samples_per_second': 26.407, 'train_steps_per_second': 3.306, 'train_loss': 0.39482151229673296, 'epoch': 3.0})"
      ]
     },
     "execution_count": 56,
     "metadata": {},
     "output_type": "execute_result"
    }
   ],
   "source": [
    "print(\"\\n=== Starting Training ===\")\n",
    "trainer.train()\n"
   ]
  },
  {
   "cell_type": "code",
   "execution_count": null,
   "id": "a62f6261",
   "metadata": {},
   "outputs": [
    {
     "name": "stdout",
     "output_type": "stream",
     "text": [
      "\n",
      "=== Final Evaluation ===\n"
     ]
    },
    {
     "name": "stderr",
     "output_type": "stream",
     "text": [
      "100%|██████████| 40/40 [00:02<00:00, 16.10it/s]\n"
     ]
    },
    {
     "name": "stdout",
     "output_type": "stream",
     "text": [
      "Final evaluation loss: 0.2649\n",
      "Generating predictions for confusion matrix...\n"
     ]
    },
    {
     "data": {
      "image/png": "[encoded data removed]",
      "text/plain": [
       "<Figure size 1500x1200 with 6 Axes>"
      ]
     },
     "metadata": {},
     "output_type": "display_data"
    },
    {
     "name": "stdout",
     "output_type": "stream",
     "text": [
      "\n",
      "=== Detailed Classification Report ===\n",
      "              precision    recall  f1-score   support\n",
      "\n",
      "    negative     0.9906    1.0000    0.9953       105\n",
      "     neutral     0.9394    0.8857    0.9118       105\n",
      "    positive     0.8919    0.9340    0.9124       106\n",
      "\n",
      "    accuracy                         0.9399       316\n",
      "   macro avg     0.9406    0.9399    0.9398       316\n",
      "weighted avg     0.9405    0.9399    0.9397       316\n",
      "\n",
      "\n",
      "=== Overall Metrics ===\n",
      "Overall Accuracy: 0.9399\n",
      "Average Confidence: 0.9855\n",
      "\n",
      "=== Per-Class Metrics ===\n",
      "Class        Precision  Recall     F1-Score   Support    Avg_Confidence \n",
      "--------------------------------------------------------------------------------\n",
      "negative     0.9906     1.0000     0.9953     105        0.9959         \n",
      "neutral      0.9394     0.8857     0.9118     105        0.9727         \n",
      "positive     0.8919     0.9340     0.9124     106        0.9879         \n",
      "\n",
      "=== Macro Averages ===\n",
      "Macro Precision: 0.9406\n",
      "Macro Recall: 0.9399\n",
      "Macro F1-Score: 0.9398\n",
      "\n",
      "=== Weighted Averages ===\n",
      "Weighted Precision: 0.9405\n",
      "Weighted Recall: 0.9399\n",
      "Weighted F1-Score: 0.9397\n",
      "\n",
      "=== Error Analysis ===\n",
      "Total misclassified samples: 19\n",
      "\n",
      "Sample misclassified examples:\n",
      "\n",
      "Text: Eggs of Schistosoma mansoni are produced by adult female worms in mesenteries of infected hosts. Eggs can cross the intestinal barrier and form granulomas in the tissue or breach and exit the host thr...\n",
      "True: neutral | Predicted: positive | Confidence: 0.935\n",
      "\n",
      "Text: MIRAE ASSET GLOBAL ETFS HOLDINGS Ltd. grew its stake in shares of SpartanNash NASDAQ:SPTN Free Report by 4.0 in the fourth quarter, Holdings Channel reports. The institutional investor owned 19,198 sh...\n",
      "True: neutral | Predicted: positive | Confidence: 0.891\n",
      "\n",
      "Text: Priced under 20 before tax and tip, the speedy lunch deal is available at all Benihanas in Southern California\n",
      "True: neutral | Predicted: positive | Confidence: 0.834\n",
      "\n",
      "Text: Wing Yip Food Holdings Group Limited Uplisting NASDAQ:WYHG Get Free Report and Mama s Creations NASDAQ:MAMA Get Free Report are both small-cap consumer staples companies, but which is the superior inv...\n",
      "True: neutral | Predicted: positive | Confidence: 0.978\n",
      "\n",
      "Text: In the event of an emergency or if you're just looking to save money, here's the best way to make distilled water at home.\n",
      "True: positive | Predicted: neutral | Confidence: 0.992\n",
      "\n",
      "=== Confidence Analysis ===\n",
      "High confidence (>0.9) predictions: 305 (96.5%)\n",
      "Medium confidence (0.7-0.9) predictions: 8 (2.5%)\n",
      "Low confidence (<0.7) predictions: 3 (0.9%)\n",
      "Accuracy for high confidence predictions: 0.9508\n",
      "Accuracy for medium confidence predictions: 0.5000\n",
      "Accuracy for low confidence predictions: 1.0000\n"
     ]
    }
   ],
   "source": [
    "print(\"\\n=== Final Evaluation ===\")\n",
    "eval_results = trainer.evaluate()\n",
    "print(f\"Final evaluation loss: {eval_results['eval_loss']:.4f}\")\n",
    "\n",
    "from sklearn.metrics import confusion_matrix, classification_report, accuracy_score, precision_recall_fscore_support\n",
    "import matplotlib.pyplot as plt\n",
    "import seaborn as sns\n",
    "\n",
    "def generate_predictions(model, dataset, tokenizer, device):\n",
    "    \"\"\"Generate predictions for the entire dataset\"\"\"\n",
    "    model.eval()\n",
    "    predictions = []\n",
    "    true_labels = []\n",
    "    confidences = []\n",
    "\n",
    "    from torch.utils.data import DataLoader\n",
    "    dataloader = DataLoader(dataset, batch_size=16, shuffle=False)\n",
    "    \n",
    "    with torch.no_grad():\n",
    "        for batch in dataloader:\n",
    "            input_ids = batch['input_ids'].to(device)\n",
    "            attention_mask = batch['attention_mask'].to(device)\n",
    "            labels = batch['labels'].to(device)\n",
    "            \n",
    "            outputs = model(input_ids=input_ids, attention_mask=attention_mask)\n",
    "            probs = torch.nn.functional.softmax(outputs.logits, dim=1)\n",
    "            predicted_classes = torch.argmax(probs, dim=1)\n",
    "            max_probs = torch.max(probs, dim=1)[0]\n",
    "            \n",
    "            predictions.extend(predicted_classes.cpu().numpy())\n",
    "            true_labels.extend(labels.cpu().numpy())\n",
    "            confidences.extend(max_probs.cpu().numpy())\n",
    "    \n",
    "    return np.array(predictions), np.array(true_labels), np.array(confidences)\n",
    "\n",
    "print(\"Generating predictions for confusion matrix...\")\n",
    "val_predictions, val_true_labels, val_confidences = generate_predictions(model, val_dataset, tokenizer, device)\n",
    "\n",
    "cm = confusion_matrix(val_true_labels, val_predictions)\n",
    "class_names = label_encoder.classes_\n",
    "\n",
    "plt.figure(figsize=(15, 12))\n",
    "\n",
    "plt.subplot(2, 2, 1)\n",
    "sns.heatmap(cm, annot=True, fmt='d', cmap='Blues', \n",
    "            xticklabels=class_names, yticklabels=class_names)\n",
    "plt.title('Confusion Matrix (Counts)')\n",
    "plt.ylabel('True Label')\n",
    "plt.xlabel('Predicted Label')\n",
    "\n",
    "cm_normalized = confusion_matrix(val_true_labels, val_predictions, normalize='true')\n",
    "plt.subplot(2, 2, 2)\n",
    "sns.heatmap(cm_normalized, annot=True, fmt='.3f', cmap='Blues',\n",
    "            xticklabels=class_names, yticklabels=class_names)\n",
    "plt.title('Confusion Matrix (Normalized)')\n",
    "plt.ylabel('True Label')\n",
    "plt.xlabel('Predicted Label')\n",
    "\n",
    "plt.subplot(2, 2, 3)\n",
    "per_class_accuracy = cm_normalized.diagonal()\n",
    "plt.bar(class_names, per_class_accuracy)\n",
    "plt.title('Per-Class Accuracy')\n",
    "plt.ylabel('Accuracy')\n",
    "plt.xlabel('Class')\n",
    "plt.xticks(rotation=45)\n",
    "for i, v in enumerate(per_class_accuracy):\n",
    "    plt.text(i, v + 0.01, f'{v:.3f}', ha='center')\n",
    "\n",
    "plt.subplot(2, 2, 4)\n",
    "for i, class_name in enumerate(class_names):\n",
    "    class_confidences = val_confidences[val_true_labels == i]\n",
    "    plt.hist(class_confidences, alpha=0.6, label=class_name, bins=20)\n",
    "plt.title('Confidence Distribution by True Class')\n",
    "plt.xlabel('Confidence')\n",
    "plt.ylabel('Frequency')\n",
    "plt.legend()\n",
    "\n",
    "plt.tight_layout()\n",
    "plt.show()\n",
    "\n",
    "# Detailed classification report\n",
    "print(\"\\n=== Detailed Classification Report ===\")\n",
    "report = classification_report(val_true_labels, val_predictions, \n",
    "                             target_names=class_names, \n",
    "                             digits=4)\n",
    "print(report)\n",
    "\n",
    "accuracy = accuracy_score(val_true_labels, val_predictions)\n",
    "precision, recall, f1, support = precision_recall_fscore_support(val_true_labels, val_predictions, \n",
    "                                                                average=None, labels=range(len(class_names)))\n",
    "\n",
    "print(f\"\\n=== Overall Metrics ===\")\n",
    "print(f\"Overall Accuracy: {accuracy:.4f}\")\n",
    "print(f\"Average Confidence: {np.mean(val_confidences):.4f}\")\n",
    "\n",
    "# Per-class detailed metrics\n",
    "print(f\"\\n=== Per-Class Metrics ===\")\n",
    "print(f\"{'Class':<12} {'Precision':<10} {'Recall':<10} {'F1-Score':<10} {'Support':<10} {'Avg_Confidence':<15}\")\n",
    "print(\"-\" * 80)\n",
    "for i, class_name in enumerate(class_names):\n",
    "    class_confidences = val_confidences[val_true_labels == i]\n",
    "    avg_confidence = np.mean(class_confidences)\n",
    "    print(f\"{class_name:<12} {precision[i]:<10.4f} {recall[i]:<10.4f} {f1[i]:<10.4f} {support[i]:<10} {avg_confidence:<15.4f}\")\n",
    "\n",
    "macro_precision = np.mean(precision)\n",
    "macro_recall = np.mean(recall)\n",
    "macro_f1 = np.mean(f1)\n",
    "\n",
    "weighted_precision = np.average(precision, weights=support)\n",
    "weighted_recall = np.average(recall, weights=support)\n",
    "weighted_f1 = np.average(f1, weights=support)\n",
    "\n",
    "print(f\"\\n=== Macro Averages ===\")\n",
    "print(f\"Macro Precision: {macro_precision:.4f}\")\n",
    "print(f\"Macro Recall: {macro_recall:.4f}\")\n",
    "print(f\"Macro F1-Score: {macro_f1:.4f}\")\n",
    "\n",
    "print(f\"\\n=== Weighted Averages ===\")\n",
    "print(f\"Weighted Precision: {weighted_precision:.4f}\")\n",
    "print(f\"Weighted Recall: {weighted_recall:.4f}\")\n",
    "print(f\"Weighted F1-Score: {weighted_f1:.4f}\")\n",
    "\n",
    "# Error analysis - find misclassified examples\n",
    "print(f\"\\n=== Error Analysis ===\")\n",
    "misclassified_indices = np.where(val_predictions != val_true_labels)[0]\n",
    "print(f\"Total misclassified samples: {len(misclassified_indices)}\")\n",
    "\n",
    "# Show some misclassified examples\n",
    "if len(misclassified_indices) > 0:\n",
    "    print(f\"\\nSample misclassified examples:\")\n",
    "    sample_errors = np.random.choice(misclassified_indices, \n",
    "                                   min(5, len(misclassified_indices)), \n",
    "                                   replace=False)\n",
    "    \n",
    "    for idx in sample_errors:\n",
    "        true_label = label_encoder.inverse_transform([val_true_labels[idx]])[0]\n",
    "        pred_label = label_encoder.inverse_transform([val_predictions[idx]])[0]\n",
    "        confidence = val_confidences[idx]\n",
    "        text = val_texts[idx][:200] + \"...\" if len(val_texts[idx]) > 200 else val_texts[idx]\n",
    "        \n",
    "        print(f\"\\nText: {text}\")\n",
    "        print(f\"True: {true_label} | Predicted: {pred_label} | Confidence: {confidence:.3f}\")\n",
    "\n",
    "print(f\"\\n=== Confidence Analysis ===\")\n",
    "print(f\"High confidence (>0.9) predictions: {np.sum(val_confidences > 0.9)} ({np.sum(val_confidences > 0.9)/len(val_confidences)*100:.1f}%)\")\n",
    "print(f\"Medium confidence (0.7-0.9) predictions: {np.sum((val_confidences >= 0.7) & (val_confidences <= 0.9))} ({np.sum((val_confidences >= 0.7) & (val_confidences <= 0.9))/len(val_confidences)*100:.1f}%)\")\n",
    "print(f\"Low confidence (<0.7) predictions: {np.sum(val_confidences < 0.7)} ({np.sum(val_confidences < 0.7)/len(val_confidences)*100:.1f}%)\")\n",
    "\n",
    "\n",
    "high_conf_mask = val_confidences > 0.9\n",
    "medium_conf_mask = (val_confidences >= 0.7) & (val_confidences <= 0.9)\n",
    "low_conf_mask = val_confidences < 0.7\n",
    "\n",
    "if np.sum(high_conf_mask) > 0:\n",
    "    high_conf_accuracy = accuracy_score(val_true_labels[high_conf_mask], val_predictions[high_conf_mask])\n",
    "    print(f\"Accuracy for high confidence predictions: {high_conf_accuracy:.4f}\")\n",
    "\n",
    "if np.sum(medium_conf_mask) > 0:\n",
    "    medium_conf_accuracy = accuracy_score(val_true_labels[medium_conf_mask], val_predictions[medium_conf_mask])\n",
    "    print(f\"Accuracy for medium confidence predictions: {medium_conf_accuracy:.4f}\")\n",
    "\n",
    "if np.sum(low_conf_mask) > 0:\n",
    "    low_conf_accuracy = accuracy_score(val_true_labels[low_conf_mask], val_predictions[low_conf_mask])\n",
    "    print(f\"Accuracy for low confidence predictions: {low_conf_accuracy:.4f}\")"
   ]
  },
  {
   "cell_type": "code",
   "execution_count": null,
   "id": "67a8c2b4",
   "metadata": {},
   "outputs": [
    {
     "data": {
      "text/plain": [
       "BertForSequenceClassification(\n",
       "  (bert): BertModel(\n",
       "    (embeddings): BertEmbeddings(\n",
       "      (word_embeddings): Embedding(30522, 768, padding_idx=0)\n",
       "      (position_embeddings): Embedding(512, 768)\n",
       "      (token_type_embeddings): Embedding(2, 768)\n",
       "      (LayerNorm): LayerNorm((768,), eps=1e-12, elementwise_affine=True)\n",
       "      (dropout): Dropout(p=0.1, inplace=False)\n",
       "    )\n",
       "    (encoder): BertEncoder(\n",
       "      (layer): ModuleList(\n",
       "        (0-11): 12 x BertLayer(\n",
       "          (attention): BertAttention(\n",
       "            (self): BertSelfAttention(\n",
       "              (query): Linear(in_features=768, out_features=768, bias=True)\n",
       "              (key): Linear(in_features=768, out_features=768, bias=True)\n",
       "              (value): Linear(in_features=768, out_features=768, bias=True)\n",
       "              (dropout): Dropout(p=0.1, inplace=False)\n",
       "            )\n",
       "            (output): BertSelfOutput(\n",
       "              (dense): Linear(in_features=768, out_features=768, bias=True)\n",
       "              (LayerNorm): LayerNorm((768,), eps=1e-12, elementwise_affine=True)\n",
       "              (dropout): Dropout(p=0.1, inplace=False)\n",
       "            )\n",
       "          )\n",
       "          (intermediate): BertIntermediate(\n",
       "            (dense): Linear(in_features=768, out_features=3072, bias=True)\n",
       "            (intermediate_act_fn): GELUActivation()\n",
       "          )\n",
       "          (output): BertOutput(\n",
       "            (dense): Linear(in_features=3072, out_features=768, bias=True)\n",
       "            (LayerNorm): LayerNorm((768,), eps=1e-12, elementwise_affine=True)\n",
       "            (dropout): Dropout(p=0.1, inplace=False)\n",
       "          )\n",
       "        )\n",
       "      )\n",
       "    )\n",
       "    (pooler): BertPooler(\n",
       "      (dense): Linear(in_features=768, out_features=768, bias=True)\n",
       "      (activation): Tanh()\n",
       "    )\n",
       "  )\n",
       "  (dropout): Dropout(p=0.1, inplace=False)\n",
       "  (classifier): Linear(in_features=768, out_features=3, bias=True)\n",
       ")"
      ]
     },
     "execution_count": 58,
     "metadata": {},
     "output_type": "execute_result"
    }
   ],
   "source": [
    "device = torch.device(\"cuda\" if torch.cuda.is_available() else \"cpu\")\n",
    "model.to(device)"
   ]
  },
  {
   "cell_type": "code",
   "execution_count": null,
   "id": "343ab14f",
   "metadata": {},
   "outputs": [],
   "source": []
  },
  {
   "cell_type": "code",
   "execution_count": null,
   "id": "c0f418a3",
   "metadata": {},
   "outputs": [],
   "source": [
    "def predict_sentiment_enhanced(text, return_probabilities=True):\n",
    "    cleaned_text = clean_text_advanced(text)\n",
    "    \n",
    "    if not cleaned_text:\n",
    "        return \"neutral\", [0.33, 0.33, 0.34] if return_probabilities else \"neutral\"\n",
    "    \n",
    "    inputs = tokenizer(cleaned_text, return_tensors=\"pt\", truncation=True, padding=True, max_length=max_length)\n",
    "    inputs = {key: val.to(device) for key, val in inputs.items()}\n",
    "\n",
    "    model.eval()\n",
    "    with torch.no_grad():\n",
    "        outputs = model(**inputs)\n",
    "        probs = torch.nn.functional.softmax(outputs.logits, dim=1)\n",
    "        predicted_class = torch.argmax(probs, dim=1).item()\n",
    "        confidence = probs.max().item()\n",
    "\n",
    "    predicted_label = label_encoder.inverse_transform([predicted_class])[0]\n",
    "    \n",
    "    if return_probabilities:\n",
    "        prob_dict = {label: prob for label, prob in zip(label_encoder.classes_, probs.tolist()[0])}\n",
    "        return predicted_label, prob_dict, confidence\n",
    "    else:\n",
    "        return predicted_label"
   ]
  },
  {
   "cell_type": "code",
   "execution_count": null,
   "id": "bf0e79af",
   "metadata": {},
   "outputs": [],
   "source": [
    "test_texts = [\n",
    "    \"The demand for seafood raise to 100 per month. This will increase the growth of seafood sales\",\n",
    "    \"The market is crashing and investors are losing money\",\n",
    "    \"The company announced stable quarterly results\"\n",
    "]"
   ]
  },
  {
   "cell_type": "code",
   "execution_count": 61,
   "id": "0452e835",
   "metadata": {},
   "outputs": [
    {
     "name": "stdout",
     "output_type": "stream",
     "text": [
      "\n",
      "=== Testing Enhanced Prediction Function ===\n",
      "\n",
      "Test 1: The demand for seafood raise to 100 per month. This will increase the growth of seafood sales\n",
      "Predicted sentiment: positive\n",
      "Confidence: 0.937\n",
      "Probability distribution: {'negative': 0.001721430802717805, 'neutral': 0.06102728471159935, 'positive': 0.9372512698173523}\n",
      "\n",
      "Test 2: The market is crashing and investors are losing money\n",
      "Predicted sentiment: negative\n",
      "Confidence: 0.978\n",
      "Probability distribution: {'negative': 0.977531909942627, 'neutral': 0.02099466882646084, 'positive': 0.0014734503347426653}\n",
      "\n",
      "Test 3: The company announced stable quarterly results\n",
      "Predicted sentiment: neutral\n",
      "Confidence: 0.979\n",
      "Probability distribution: {'negative': 0.0016087053809314966, 'neutral': 0.9791516065597534, 'positive': 0.019239695742726326}\n"
     ]
    }
   ],
   "source": [
    "print(\"\\n=== Testing Enhanced Prediction Function ===\")\n",
    "for i, text in enumerate(test_texts):\n",
    "    print(f\"\\nTest {i+1}: {text}\")\n",
    "    prediction, probs, confidence = predict_sentiment_enhanced(text)\n",
    "    print(f\"Predicted sentiment: {prediction}\")\n",
    "    print(f\"Confidence: {confidence:.3f}\")\n",
    "    print(f\"Probability distribution: {probs}\")"
   ]
  },
  {
   "cell_type": "code",
   "execution_count": 62,
   "id": "2765ca6b",
   "metadata": {},
   "outputs": [
    {
     "name": "stdout",
     "output_type": "stream",
     "text": [
      "\n",
      "=== Saving Model ===\n",
      "Training completed successfully!\n",
      "Model saved to './saved_model_enhanced'\n",
      "Label encoder saved to 'label_encoder.pkl'\n"
     ]
    }
   ],
   "source": [
    "# Save the model and tokenizer\n",
    "print(\"\\n=== Saving Model ===\")\n",
    "trainer.save_model(\"./saved_model_enhanced\")\n",
    "tokenizer.save_pretrained(\"./saved_model_enhanced\")\n",
    "\n",
    "print(\"Training completed successfully!\")\n",
    "print(\"Model saved to './saved_model_enhanced'\")\n",
    "print(\"Label encoder saved to 'label_encoder.pkl'\")"
   ]
  }
 ],
 "metadata": {
  "kernelspec": {
   "display_name": ".venv",
   "language": "python",
   "name": "python3"
  },
  "language_info": {
   "codemirror_mode": {
    "name": "ipython",
    "version": 3
   },
   "file_extension": ".py",
   "mimetype": "text/x-python",
   "name": "python",
   "nbconvert_exporter": "python",
   "pygments_lexer": "ipython3",
   "version": "3.11.5"
  }
 },
 "nbformat": 4,
 "nbformat_minor": 5
}
