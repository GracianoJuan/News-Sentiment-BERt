{
 "cells": [
  {
   "cell_type": "code",
   "execution_count": 15,
   "id": "ff42878b",
   "metadata": {},
   "outputs": [],
   "source": [
    "import requests\n",
    "import csv\n",
    "import urllib.parse\n",
    "from newsapi import NewsApiClient"
   ]
  },
  {
   "cell_type": "code",
   "execution_count": 16,
   "id": "23907faa",
   "metadata": {},
   "outputs": [
    {
     "name": "stdout",
     "output_type": "stream",
     "text": [
      "94 artikel disimpan ke news_dataset_id2.csv\n"
     ]
    }
   ],
   "source": [
    "\n",
    "\n",
    "# API Configuration\n",
    "API_KEY = 'd0840db399f04746a1df5b125141a401'\n",
    "KEYWORDS1 = ['shrimp', 'squid', 'octopus', 'crab', 'fish']\n",
    "KEYWORDS2 = ['regulation', 'increase', 'decline', 'delay', 'steady', 'shortage', 'trend', 'demand', 'price', 'interest', 'growth', 'rule']\n",
    "\n",
    "QUERY1 = ' OR '.join(KEYWORDS1)\n",
    "QUERY2 = ' OR '.join(KEYWORDS2)\n",
    "MAINQUERY = f'({QUERY1}) AND ({QUERY2})'\n",
    "\n",
    "# URL encode the query\n",
    "encoded_query = urllib.parse.quote(MAINQUERY)\n",
    "\n",
    "# Initialize NewsAPI client\n",
    "newsapi = NewsApiClient(api_key=API_KEY)\n",
    "\n",
    "# Build the URL with proper encoding\n",
    "URL = f'https://newsapi.org/v2/everything?q={encoded_query}&language=en&pageSize=100&apiKey={API_KEY}'\n",
    "\n",
    "def fetch_news():\n",
    "    try:\n",
    "        response = requests.get(URL)\n",
    "        data = response.json()\n",
    "        \n",
    "        if data['status'] != 'ok':\n",
    "            print('Gagal mengambil data:', data)\n",
    "            return\n",
    "\n",
    "        articles = data['articles']\n",
    "        \n",
    "        with open('news_dataset_id2.csv', 'a', newline='', encoding='utf-8') as f:\n",
    "            writer = csv.writer(f)\n",
    "        \n",
    "            for article in articles:\n",
    "                writer.writerow([\n",
    "                    article.get('title'),\n",
    "                    article.get('description'),\n",
    "                    article.get('content'),\n",
    "                    article.get('publishedAt'),\n",
    "                    article.get('url')\n",
    "                ])\n",
    "        print(f\"{len(articles)} artikel disimpan ke news_dataset_id2.csv\")\n",
    "        \n",
    "    except requests.exceptions.RequestException as e:\n",
    "        print(f\"Error making request: {e}\")\n",
    "    except Exception as e:\n",
    "        print(f\"Unexpected error: {e}\")\n",
    "\n",
    "# Alternative function using NewsAPI client (cleaner approach)\n",
    "def fetch_news_with_client():\n",
    "    try:\n",
    "        response = newsapi.get_everything(\n",
    "            q=MAINQUERY,\n",
    "            language='en',\n",
    "            page_size=100,\n",
    "            sort_by='publishedAt'\n",
    "        )\n",
    "        \n",
    "        if response['status'] != 'ok':\n",
    "            print('Gagal mengambil data:', response)\n",
    "            return\n",
    "            \n",
    "        articles = response['articles']\n",
    "        \n",
    "        with open('news_dataset_id2.csv', 'a', newline='', encoding='utf-8') as f:\n",
    "            writer = csv.writer(f)\n",
    "        \n",
    "            for article in articles:\n",
    "                writer.writerow([\n",
    "                    article.get('title'),\n",
    "                    article.get('description'),\n",
    "                    article.get('content'),\n",
    "                    article.get('publishedAt'),\n",
    "                    article.get('url')\n",
    "                ])\n",
    "        print(f\"{len(articles)} artikel disimpan ke news_dataset_id2.csv\")\n",
    "        \n",
    "    except Exception as e:\n",
    "        print(f'Error fetching news: {e}')\n",
    "        \n",
    "fetch_news_with_client()"
   ]
  }
 ],
 "metadata": {
  "kernelspec": {
   "display_name": ".venv",
   "language": "python",
   "name": "python3"
  },
  "language_info": {
   "codemirror_mode": {
    "name": "ipython",
    "version": 3
   },
   "file_extension": ".py",
   "mimetype": "text/x-python",
   "name": "python",
   "nbconvert_exporter": "python",
   "pygments_lexer": "ipython3",
   "version": "3.11.5"
  }
 },
 "nbformat": 4,
 "nbformat_minor": 5
}
