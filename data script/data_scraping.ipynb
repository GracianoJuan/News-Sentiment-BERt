{
 "cells": [
  {
   "cell_type": "code",
   "execution_count": 31,
   "id": "21e1e139",
   "metadata": {},
   "outputs": [],
   "source": [
    "import requests\n",
    "from bs4 import BeautifulSoup\n",
    "import csv\n",
    "import nltk\n",
    "import pandas as pd\n",
    "# nltk.download('punkt') \n",
    "from nltk.tokenize import sent_tokenize"
   ]
  },
  {
   "cell_type": "code",
   "execution_count": 32,
   "id": "1dd3c100",
   "metadata": {},
   "outputs": [
    {
     "name": "stdout",
     "output_type": "stream",
     "text": [
      "berhasil membaca berita_1.csv\n",
      "berhasil membaca berita_2.csv\n",
      "berhasil membaca berita_3.csv\n",
      "berhasil membaca berita_4.csv\n",
      "berhasil membaca berita_5.csv\n",
      "berhasil membaca berita_6.csv\n",
      "berhasil membaca berita_7.csv\n",
      "berhasil membaca berita_8.csv\n",
      "File tidak ditemukan, proses selesai.\n",
      "File berita.csv berhasil disimpan.\n"
     ]
    }
   ],
   "source": [
    "i = 1\n",
    "all_data = []\n",
    "\n",
    "while True:\n",
    "    try:\n",
    "        df = pd.read_csv(f'berita_{i}.csv')\n",
    "        kolom_pertama = df.iloc[:, 0]  # Ambil hanya kolom pertama\n",
    "        all_data.append(kolom_pertama)\n",
    "        print(f'berhasil membaca berita_{i}.csv')\n",
    "        i += 1\n",
    "    except FileNotFoundError:\n",
    "        print('File tidak ditemukan, proses selesai.')\n",
    "        break\n",
    "\n",
    "# Gabungkan semua kolom pertama ke satu kolom\n",
    "if all_data:\n",
    "    combined_series = pd.concat(all_data, ignore_index=True)\n",
    "    combined_series.to_csv('berita.csv', index=False, header=False, encoding='utf-8')\n",
    "    print('File berita.csv berhasil disimpan.')\n",
    "else:\n",
    "    print('Tidak ada file yang digabungkan.')"
   ]
  },
  {
   "cell_type": "code",
   "execution_count": null,
   "id": "9267e474",
   "metadata": {},
   "outputs": [],
   "source": []
  }
 ],
 "metadata": {
  "kernelspec": {
   "display_name": ".venv",
   "language": "python",
   "name": "python3"
  },
  "language_info": {
   "codemirror_mode": {
    "name": "ipython",
    "version": 3
   },
   "file_extension": ".py",
   "mimetype": "text/x-python",
   "name": "python",
   "nbconvert_exporter": "python",
   "pygments_lexer": "ipython3",
   "version": "3.11.5"
  }
 },
 "nbformat": 4,
 "nbformat_minor": 5
}
