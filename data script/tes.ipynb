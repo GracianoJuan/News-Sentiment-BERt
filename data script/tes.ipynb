{
 "cells": [
  {
   "cell_type": "code",
   "execution_count": 1,
   "id": "ff42878b",
   "metadata": {},
   "outputs": [],
   "source": [
    "import requests\n",
    "import csv\n",
    "from newsapi import NewsApiClient"
   ]
  },
  {
   "cell_type": "code",
   "execution_count": null,
   "id": "23907faa",
   "metadata": {},
   "outputs": [
    {
     "name": "stdout",
     "output_type": "stream",
     "text": [
      "93 artikel disimpan ke news_dataset.csv\n"
     ]
    }
   ],
   "source": [
    "\n",
    "API_KEY = 'd0840db399f04746a1df5b125141a401'\n",
    "KEYWORDS1 = ['seafood', 'frozen foods', 'hardware', 'baby care', 'squid', 'fish', 'shrimp']\n",
    "KEYWORDS2 = ['regulation', 'increase', 'decline ', 'delay', 'steady', 'shortage','trend', 'demand', 'price', 'interest', 'growth', 'rule']\n",
    "QUERY1 = ' OR '.join(KEYWORDS1)\n",
    "QUERY2 = ' OR '.join(KEYWORDS2)\n",
    "MAINQUERY = f'({QUERY1}) AND ({QUERY2})'\n",
    "\n",
    "# Init\n",
    "newsapi = NewsApiClient(api_key='d0840db399f04746a1df5b125141a401')\n",
    "URL = f'https://newsapi.org/v2/everything?q={MAINQUERY}&language=en&pageSize=100&apiKey={API_KEY}'\n",
    "\n",
    "\n",
    "def fetch_news():\n",
    "    response = requests.get(URL)\n",
    "    data = response.json()\n",
    "    \n",
    "    if data['status'] != 'ok':\n",
    "        print('Gagal mengambil data:', data)\n",
    "        return\n",
    "\n",
    "    articles = data['articles']\n",
    "    \n",
    "    with open('news_dataset_id2.csv', 'w', newline='', encoding='utf-8') as f:\n",
    "        writer = csv.writer(f)\n",
    "        writer.writerow(['title', 'description', 'content', 'publishedAt', 'url'])  # Header\n",
    "        \n",
    "        for article in articles:\n",
    "            writer.writerow([\n",
    "                article.get('title'),\n",
    "                article.get('description'),\n",
    "                article.get('content'),\n",
    "                article.get('publishedAt'),\n",
    "                article.get('url')\n",
    "            ])\n",
    "    print(f\"{len(articles)} artikel disimpan ke news_dataset.csv\")\n",
    "\n",
    "fetch_news()"
   ]
  }
 ],
 "metadata": {
  "kernelspec": {
   "display_name": ".venv",
   "language": "python",
   "name": "python3"
  },
  "language_info": {
   "codemirror_mode": {
    "name": "ipython",
    "version": 3
   },
   "file_extension": ".py",
   "mimetype": "text/x-python",
   "name": "python",
   "nbconvert_exporter": "python",
   "pygments_lexer": "ipython3",
   "version": "3.11.5"
  }
 },
 "nbformat": 4,
 "nbformat_minor": 5
}
